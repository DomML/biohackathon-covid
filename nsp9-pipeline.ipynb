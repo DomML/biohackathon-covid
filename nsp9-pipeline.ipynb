{
 "cells": [
  {
   "cell_type": "code",
   "execution_count": 1,
   "metadata": {},
   "outputs": [
    {
     "name": "stdout",
     "output_type": "stream",
     "text": [
      "Project loaded.\n",
      "\n",
      "    Main context is \"ctx\"\n",
      "    Status context is \"ctx2\"\n",
      "    Run save() to save the context\n",
      "    \n"
     ]
    },
    {
     "name": "stderr",
     "output_type": "stream",
     "text": [
      "Seamless buffer cache cleanup is currently disabled.\n",
      "This prevents data loss from bugs in Seamless's buffer caching.\n",
      "If you have memory issues, restart Python periodically,\n",
      " and/or use Redis to store buffers\n"
     ]
    },
    {
     "name": "stdout",
     "output_type": "stream",
     "text": [
      "Opened the seamless share update server at port 5138\n",
      "Opened the seamless REST server at port 5813\n"
     ]
    }
   ],
   "source": [
    "%run -i init-project.py\n",
    "await load()"
   ]
  },
  {
   "cell_type": "code",
   "execution_count": 2,
   "metadata": {},
   "outputs": [
    {
     "data": {
      "application/vnd.jupyter.widget-view+json": {
       "model_id": "d0701bc16e1b4b8094f8dd7e19b60caf",
       "version_major": 2,
       "version_minor": 0
      },
      "text/plain": [
       "Output(outputs=({'output_type': 'display_data', 'data': {'text/plain': \"HEADER    REPLICATION, VIRAL PROTEIN  …"
      ]
     },
     "metadata": {},
     "output_type": "display_data"
    }
   ],
   "source": [
    "ctx.protein.output()"
   ]
  },
  {
   "cell_type": "code",
   "execution_count": 3,
   "metadata": {},
   "outputs": [
    {
     "data": {
      "application/vnd.jupyter.widget-view+json": {
       "model_id": "7a05baaf998f41f281c4c5b57d73b11c",
       "version_major": 2,
       "version_minor": 0
      },
      "text/plain": [
       "Output(outputs=({'output_type': 'display_data', 'data': {'text/plain': \"ATOM    336  P     U Q   5      92.028…"
      ]
     },
     "metadata": {},
     "output_type": "display_data"
    }
   ],
   "source": [
    "ctx.trinucleotide.output()"
   ]
  },
  {
   "cell_type": "code",
   "execution_count": 4,
   "metadata": {},
   "outputs": [
    {
     "data": {
      "application/vnd.jupyter.widget-view+json": {
       "model_id": "da1407eb076a4390bf5fe68c677ad7b2",
       "version_major": 2,
       "version_minor": 0
      },
      "text/plain": [
       "Output(outputs=({'output_type': 'display_data', 'data': {'text/plain': \"ATOM    336  P     U Q   5      62.422…"
      ]
     },
     "metadata": {},
     "output_type": "display_data"
    },
    {
     "name": "stdout",
     "output_type": "stream",
     "text": [
      "ctx.auto_translate is currently unstable and has been disabled\n",
      "You must run regularly \"ctx.translate()\" (IPython)\n",
      "or \"await ctx.translation()\" (Jupyter) after modifying the graph.\n",
      "Translation is not required after modifying only cell values\n"
     ]
    }
   ],
   "source": [
    "ctx.trinucleotide_centered.output()"
   ]
  },
  {
   "cell_type": "code",
   "execution_count": null,
   "metadata": {},
   "outputs": [],
   "source": []
  }
 ],
 "metadata": {
  "kernelspec": {
   "display_name": "Python 3",
   "language": "python",
   "name": "python3"
  },
  "language_info": {
   "codemirror_mode": {
    "name": "ipython",
    "version": 3
   },
   "file_extension": ".py",
   "mimetype": "text/x-python",
   "name": "python",
   "nbconvert_exporter": "python",
   "pygments_lexer": "ipython3",
   "version": "3.7.3"
  }
 },
 "nbformat": 4,
 "nbformat_minor": 2
}
